{
 "cells": [
  {
   "cell_type": "markdown",
   "id": "a0402d76",
   "metadata": {},
   "source": [
    "```bash\n",
    "$ gcc -O3 -march=native -mtune=native -flto -fprofile-use  lab02.c -o /tmp/test && /tmp/test\n",
    "Task 1: Array 5722 (us)\n",
    "Task 1: Linked list 50692 (us)\n",
    "Task 2: Array 7277 (us)\n",
    "Task 2: Linked list 66301 (us)\n",
    "Task 3: Array 12676 (us)\n",
    "Task 3: Linked list 17319 (us)\n",
    "\n",
    "```"
   ]
  },
  {
   "cell_type": "markdown",
   "id": "4962e507",
   "metadata": {},
   "source": [
    "| Realisation  | Array (ms) | Linked List (ms) | Increase |\n",
    "| ---          | --- | --- | --- |\n",
    "| Task 1 | 5.72 | 50.7 | +786%\n",
    "| Task 2 | 7.28 | 66.3 | +810%\n",
    "| Task 3 | 12.7 | 17.3 | +36%"
   ]
  },
  {
   "cell_type": "markdown",
   "id": "21c8f62c",
   "metadata": {},
   "source": [
    "#### Вывод\n",
    "\n",
    "Не сложно заметить, что реализация на массиве существенно выигрывает у реализации на списке. Чем же объясняется такая разница?\n",
    "\n",
    "Не смотря на то, что массив надо иногда реалоцировать, он локален в памяти. А потому он выигрывает за счет уменьшения операций перехода по указателям и кеша: за одну операцию чтения из памяти мы читаем в кеш 64 байта = 16 элементов стека, а потому извлечение происходит гораздо быстрее."
   ]
  }
 ],
 "metadata": {
  "kernelspec": {
   "display_name": "Python 3 (ipykernel)",
   "language": "python",
   "name": "python3"
  },
  "language_info": {
   "codemirror_mode": {
    "name": "ipython",
    "version": 3
   },
   "file_extension": ".py",
   "mimetype": "text/x-python",
   "name": "python",
   "nbconvert_exporter": "python",
   "pygments_lexer": "ipython3",
   "version": "3.10.10"
  }
 },
 "nbformat": 4,
 "nbformat_minor": 5
}
